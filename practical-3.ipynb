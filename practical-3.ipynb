{
 "cells": [
  {
   "cell_type": "code",
   "execution_count": 1,
   "id": "f303f673",
   "metadata": {
    "execution": {
     "iopub.execute_input": "2025-04-25T03:41:43.379369Z",
     "iopub.status.busy": "2025-04-25T03:41:43.379061Z",
     "iopub.status.idle": "2025-04-25T03:41:45.211087Z",
     "shell.execute_reply": "2025-04-25T03:41:45.210162Z"
    },
    "papermill": {
     "duration": 1.837259,
     "end_time": "2025-04-25T03:41:45.212730",
     "exception": false,
     "start_time": "2025-04-25T03:41:43.375471",
     "status": "completed"
    },
    "tags": []
   },
   "outputs": [
    {
     "name": "stdout",
     "output_type": "stream",
     "text": [
      "   YearsExperience   Salary\n",
      "0              1.1  39343.0\n",
      "1              1.3  46205.0\n",
      "2              1.5  37731.0\n",
      "3              2.0  43525.0\n",
      "4              2.2  39891.0\n"
     ]
    }
   ],
   "source": [
    "import pandas as pd\n",
    "df = pd.read_csv(\"/kaggle/input/salary-dataset/Salary_Data.csv\")\n",
    "print(df.head())"
   ]
  },
  {
   "cell_type": "code",
   "execution_count": 2,
   "id": "99f4fa60",
   "metadata": {
    "execution": {
     "iopub.execute_input": "2025-04-25T03:41:45.218217Z",
     "iopub.status.busy": "2025-04-25T03:41:45.217893Z",
     "iopub.status.idle": "2025-04-25T03:41:45.250228Z",
     "shell.execute_reply": "2025-04-25T03:41:45.249239Z"
    },
    "papermill": {
     "duration": 0.03635,
     "end_time": "2025-04-25T03:41:45.251519",
     "exception": false,
     "start_time": "2025-04-25T03:41:45.215169",
     "status": "completed"
    },
    "tags": []
   },
   "outputs": [
    {
     "name": "stdout",
     "output_type": "stream",
     "text": [
      "<class 'pandas.core.frame.DataFrame'>\n",
      "RangeIndex: 30 entries, 0 to 29\n",
      "Data columns (total 2 columns):\n",
      " #   Column           Non-Null Count  Dtype  \n",
      "---  ------           --------------  -----  \n",
      " 0   YearsExperience  30 non-null     float64\n",
      " 1   Salary           30 non-null     float64\n",
      "dtypes: float64(2)\n",
      "memory usage: 612.0 bytes\n",
      "None\n",
      "       YearsExperience         Salary\n",
      "count        30.000000      30.000000\n",
      "mean          5.313333   76003.000000\n",
      "std           2.837888   27414.429785\n",
      "min           1.100000   37731.000000\n",
      "25%           3.200000   56720.750000\n",
      "50%           4.700000   65237.000000\n",
      "75%           7.700000  100544.750000\n",
      "max          10.500000  122391.000000\n"
     ]
    }
   ],
   "source": [
    "print(df.info())\n",
    "print(df.describe())"
   ]
  },
  {
   "cell_type": "code",
   "execution_count": 3,
   "id": "2eed7c0b",
   "metadata": {
    "execution": {
     "iopub.execute_input": "2025-04-25T03:41:45.257009Z",
     "iopub.status.busy": "2025-04-25T03:41:45.256300Z",
     "iopub.status.idle": "2025-04-25T03:41:46.738639Z",
     "shell.execute_reply": "2025-04-25T03:41:46.737907Z"
    },
    "papermill": {
     "duration": 1.486569,
     "end_time": "2025-04-25T03:41:46.740209",
     "exception": false,
     "start_time": "2025-04-25T03:41:45.253640",
     "status": "completed"
    },
    "tags": []
   },
   "outputs": [],
   "source": [
    "import numpy as np\n",
    "from sklearn.model_selection import train_test_split\n",
    "\n",
    "x=df[['YearsExperience']].values\n",
    "y=df['Salary'].values\n",
    "x_train, x_test, y_train, y_test=train_test_split(x, y, test_size=0.2, random_state=42)"
   ]
  },
  {
   "cell_type": "code",
   "execution_count": 4,
   "id": "1b790f5f",
   "metadata": {
    "execution": {
     "iopub.execute_input": "2025-04-25T03:41:46.745659Z",
     "iopub.status.busy": "2025-04-25T03:41:46.745236Z",
     "iopub.status.idle": "2025-04-25T03:41:46.866743Z",
     "shell.execute_reply": "2025-04-25T03:41:46.865631Z"
    },
    "papermill": {
     "duration": 0.126061,
     "end_time": "2025-04-25T03:41:46.868466",
     "exception": false,
     "start_time": "2025-04-25T03:41:46.742405",
     "status": "completed"
    },
    "tags": []
   },
   "outputs": [
    {
     "name": "stdout",
     "output_type": "stream",
     "text": [
      "Intercept: 25321.583011776813\n",
      "Coefficient: 9423.815323030976\n"
     ]
    }
   ],
   "source": [
    "from sklearn.linear_model import LinearRegression\n",
    "model=LinearRegression()\n",
    "\n",
    "model.fit(x_train, y_train)\n",
    "print(f\"Intercept: {model.intercept_}\")\n",
    "print(f\"Coefficient: {model.coef_[0]}\")"
   ]
  },
  {
   "cell_type": "code",
   "execution_count": 5,
   "id": "210e3e2d",
   "metadata": {
    "execution": {
     "iopub.execute_input": "2025-04-25T03:41:46.874231Z",
     "iopub.status.busy": "2025-04-25T03:41:46.873484Z",
     "iopub.status.idle": "2025-04-25T03:41:46.881473Z",
     "shell.execute_reply": "2025-04-25T03:41:46.880530Z"
    },
    "papermill": {
     "duration": 0.012153,
     "end_time": "2025-04-25T03:41:46.882810",
     "exception": false,
     "start_time": "2025-04-25T03:41:46.870657",
     "status": "completed"
    },
    "tags": []
   },
   "outputs": [
    {
     "name": "stdout",
     "output_type": "stream",
     "text": [
      "     Actual      Predicted\n",
      "0  112635.0  115790.210113\n",
      "1   67938.0   71498.278095\n",
      "2  113812.0  102596.868661\n",
      "3   83088.0   75267.804224\n",
      "4   64445.0   55477.792045\n"
     ]
    }
   ],
   "source": [
    "y_pred=model.predict(x_test)\n",
    "comparison=pd.DataFrame({'Actual': y_test, 'Predicted': y_pred})\n",
    "print(comparison.head())"
   ]
  },
  {
   "cell_type": "code",
   "execution_count": 6,
   "id": "ceec3130",
   "metadata": {
    "execution": {
     "iopub.execute_input": "2025-04-25T03:41:46.888691Z",
     "iopub.status.busy": "2025-04-25T03:41:46.887960Z",
     "iopub.status.idle": "2025-04-25T03:41:46.893672Z",
     "shell.execute_reply": "2025-04-25T03:41:46.892811Z"
    },
    "papermill": {
     "duration": 0.010001,
     "end_time": "2025-04-25T03:41:46.895082",
     "exception": false,
     "start_time": "2025-04-25T03:41:46.885081",
     "status": "completed"
    },
    "tags": []
   },
   "outputs": [
    {
     "name": "stdout",
     "output_type": "stream",
     "text": [
      "Mean Squared Error: 49830096.85590839\n"
     ]
    }
   ],
   "source": [
    "from sklearn.metrics import mean_squared_error\n",
    "mse=mean_squared_error(y_test, y_pred)\n",
    "print(f\"Mean Squared Error: {mse}\")"
   ]
  }
 ],
 "metadata": {
  "kaggle": {
   "accelerator": "none",
   "dataSources": [
    {
     "datasetId": 596514,
     "sourceId": 1073022,
     "sourceType": "datasetVersion"
    }
   ],
   "dockerImageVersionId": 31012,
   "isGpuEnabled": false,
   "isInternetEnabled": true,
   "language": "python",
   "sourceType": "notebook"
  },
  "kernelspec": {
   "display_name": "Python 3",
   "language": "python",
   "name": "python3"
  },
  "language_info": {
   "codemirror_mode": {
    "name": "ipython",
    "version": 3
   },
   "file_extension": ".py",
   "mimetype": "text/x-python",
   "name": "python",
   "nbconvert_exporter": "python",
   "pygments_lexer": "ipython3",
   "version": "3.11.11"
  },
  "papermill": {
   "default_parameters": {},
   "duration": 8.693618,
   "end_time": "2025-04-25T03:41:47.515506",
   "environment_variables": {},
   "exception": null,
   "input_path": "__notebook__.ipynb",
   "output_path": "__notebook__.ipynb",
   "parameters": {},
   "start_time": "2025-04-25T03:41:38.821888",
   "version": "2.6.0"
  }
 },
 "nbformat": 4,
 "nbformat_minor": 5
}
