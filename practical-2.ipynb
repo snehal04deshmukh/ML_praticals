{
 "cells": [
  {
   "cell_type": "code",
   "execution_count": 1,
   "id": "9f594939",
   "metadata": {
    "execution": {
     "iopub.execute_input": "2025-04-25T03:37:00.739516Z",
     "iopub.status.busy": "2025-04-25T03:37:00.739276Z",
     "iopub.status.idle": "2025-04-25T03:37:01.973318Z",
     "shell.execute_reply": "2025-04-25T03:37:01.972646Z"
    },
    "papermill": {
     "duration": 1.238601,
     "end_time": "2025-04-25T03:37:01.974812",
     "exception": false,
     "start_time": "2025-04-25T03:37:00.736211",
     "status": "completed"
    },
    "tags": []
   },
   "outputs": [],
   "source": [
    "import pandas as pd\n",
    "import numpy as np"
   ]
  },
  {
   "cell_type": "code",
   "execution_count": 2,
   "id": "aca9199f",
   "metadata": {
    "execution": {
     "iopub.execute_input": "2025-04-25T03:37:01.979371Z",
     "iopub.status.busy": "2025-04-25T03:37:01.979029Z",
     "iopub.status.idle": "2025-04-25T03:37:01.985386Z",
     "shell.execute_reply": "2025-04-25T03:37:01.984701Z"
    },
    "papermill": {
     "duration": 0.009578,
     "end_time": "2025-04-25T03:37:01.986408",
     "exception": false,
     "start_time": "2025-04-25T03:37:01.976830",
     "status": "completed"
    },
    "tags": []
   },
   "outputs": [],
   "source": [
    "data = {\n",
    "    \"Name\": [\"Alice\", \"bob\", \"Charlie\", \"David\", \"Eve\"],\n",
    "    \"Age\" : [25, 30, 22, 29, 27],\n",
    "    \"Score\": [85, 90, 78, 88, 92]\n",
    "}\n",
    "df = pd.DataFrame(data)"
   ]
  },
  {
   "cell_type": "code",
   "execution_count": 3,
   "id": "1d5678d3",
   "metadata": {
    "execution": {
     "iopub.execute_input": "2025-04-25T03:37:01.990342Z",
     "iopub.status.busy": "2025-04-25T03:37:01.990146Z",
     "iopub.status.idle": "2025-04-25T03:37:02.001044Z",
     "shell.execute_reply": "2025-04-25T03:37:02.000273Z"
    },
    "papermill": {
     "duration": 0.01412,
     "end_time": "2025-04-25T03:37:02.002244",
     "exception": false,
     "start_time": "2025-04-25T03:37:01.988124",
     "status": "completed"
    },
    "tags": []
   },
   "outputs": [
    {
     "name": "stdout",
     "output_type": "stream",
     "text": [
      "DataFrame:\n",
      "       Name  Age  Score\n",
      "0    Alice   25     85\n",
      "1      bob   30     90\n",
      "2  Charlie   22     78\n",
      "3    David   29     88\n",
      "4      Eve   27     92\n"
     ]
    }
   ],
   "source": [
    "print(\"DataFrame:\\n\", df)"
   ]
  },
  {
   "cell_type": "code",
   "execution_count": 4,
   "id": "b178214f",
   "metadata": {
    "execution": {
     "iopub.execute_input": "2025-04-25T03:37:02.006285Z",
     "iopub.status.busy": "2025-04-25T03:37:02.006052Z",
     "iopub.status.idle": "2025-04-25T03:37:02.011227Z",
     "shell.execute_reply": "2025-04-25T03:37:02.010538Z"
    },
    "papermill": {
     "duration": 0.00825,
     "end_time": "2025-04-25T03:37:02.012180",
     "exception": false,
     "start_time": "2025-04-25T03:37:02.003930",
     "status": "completed"
    },
    "tags": []
   },
   "outputs": [
    {
     "name": "stdout",
     "output_type": "stream",
     "text": [
      "\n",
      "REtrieved Column - Age:\n",
      " 0    25\n",
      "1    30\n",
      "2    22\n",
      "3    29\n",
      "4    27\n",
      "Name: Age, dtype: int64\n"
     ]
    }
   ],
   "source": [
    "age_column = df[\"Age\"]\n",
    "print(\"\\nREtrieved Column - Age:\\n\", age_column)"
   ]
  },
  {
   "cell_type": "code",
   "execution_count": 5,
   "id": "c75c1573",
   "metadata": {
    "execution": {
     "iopub.execute_input": "2025-04-25T03:37:02.016072Z",
     "iopub.status.busy": "2025-04-25T03:37:02.015873Z",
     "iopub.status.idle": "2025-04-25T03:37:02.030809Z",
     "shell.execute_reply": "2025-04-25T03:37:02.030186Z"
    },
    "papermill": {
     "duration": 0.017949,
     "end_time": "2025-04-25T03:37:02.031785",
     "exception": false,
     "start_time": "2025-04-25T03:37:02.013836",
     "status": "completed"
    },
    "tags": []
   },
   "outputs": [
    {
     "name": "stdout",
     "output_type": "stream",
     "text": [
      "\n",
      "Summary Statistics of DataFrame:\n",
      "              Age      Score\n",
      "count   5.000000   5.000000\n",
      "mean   26.600000  86.600000\n",
      "std     3.209361   5.458938\n",
      "min    22.000000  78.000000\n",
      "25%    25.000000  85.000000\n",
      "50%    27.000000  88.000000\n",
      "75%    29.000000  90.000000\n",
      "max    30.000000  92.000000\n"
     ]
    }
   ],
   "source": [
    "summary = df.describe()\n",
    "print(\"\\nSummary Statistics of DataFrame:\\n\", summary)"
   ]
  },
  {
   "cell_type": "code",
   "execution_count": 6,
   "id": "fc24c99d",
   "metadata": {
    "execution": {
     "iopub.execute_input": "2025-04-25T03:37:02.035683Z",
     "iopub.status.busy": "2025-04-25T03:37:02.035502Z",
     "iopub.status.idle": "2025-04-25T03:37:02.040690Z",
     "shell.execute_reply": "2025-04-25T03:37:02.040102Z"
    },
    "papermill": {
     "duration": 0.008322,
     "end_time": "2025-04-25T03:37:02.041834",
     "exception": false,
     "start_time": "2025-04-25T03:37:02.033512",
     "status": "completed"
    },
    "tags": []
   },
   "outputs": [],
   "source": [
    "mean_values = df.select_dtypes(include=[np.number]).mean()\n",
    "std_values = df.select_dtypes(include=[np.number]).std()"
   ]
  },
  {
   "cell_type": "code",
   "execution_count": 7,
   "id": "ada11bc8",
   "metadata": {
    "execution": {
     "iopub.execute_input": "2025-04-25T03:37:02.046173Z",
     "iopub.status.busy": "2025-04-25T03:37:02.045896Z",
     "iopub.status.idle": "2025-04-25T03:37:02.050947Z",
     "shell.execute_reply": "2025-04-25T03:37:02.050099Z"
    },
    "papermill": {
     "duration": 0.008452,
     "end_time": "2025-04-25T03:37:02.052090",
     "exception": false,
     "start_time": "2025-04-25T03:37:02.043638",
     "status": "completed"
    },
    "tags": []
   },
   "outputs": [
    {
     "name": "stdout",
     "output_type": "stream",
     "text": [
      "\n",
      "Mean Values:\n",
      " Age      26.6\n",
      "Score    86.6\n",
      "dtype: float64\n",
      "\n",
      "Standard Deviation Values:\n",
      " Age      3.209361\n",
      "Score    5.458938\n",
      "dtype: float64\n"
     ]
    }
   ],
   "source": [
    "print(\"\\nMean Values:\\n\", mean_values)\n",
    "print(\"\\nStandard Deviation Values:\\n\", std_values)"
   ]
  }
 ],
 "metadata": {
  "kaggle": {
   "accelerator": "none",
   "dataSources": [],
   "dockerImageVersionId": 31012,
   "isGpuEnabled": false,
   "isInternetEnabled": true,
   "language": "python",
   "sourceType": "notebook"
  },
  "kernelspec": {
   "display_name": "Python 3",
   "language": "python",
   "name": "python3"
  },
  "language_info": {
   "codemirror_mode": {
    "name": "ipython",
    "version": 3
   },
   "file_extension": ".py",
   "mimetype": "text/x-python",
   "name": "python",
   "nbconvert_exporter": "python",
   "pygments_lexer": "ipython3",
   "version": "3.11.11"
  },
  "papermill": {
   "default_parameters": {},
   "duration": 5.157936,
   "end_time": "2025-04-25T03:37:02.469627",
   "environment_variables": {},
   "exception": null,
   "input_path": "__notebook__.ipynb",
   "output_path": "__notebook__.ipynb",
   "parameters": {},
   "start_time": "2025-04-25T03:36:57.311691",
   "version": "2.6.0"
  }
 },
 "nbformat": 4,
 "nbformat_minor": 5
}
