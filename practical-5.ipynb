{
 "cells": [
  {
   "cell_type": "code",
   "execution_count": 1,
   "id": "9aaebc51",
   "metadata": {
    "execution": {
     "iopub.execute_input": "2025-04-07T03:46:41.020245Z",
     "iopub.status.busy": "2025-04-07T03:46:41.019896Z",
     "iopub.status.idle": "2025-04-07T03:46:43.318034Z",
     "shell.execute_reply": "2025-04-07T03:46:43.317237Z"
    },
    "papermill": {
     "duration": 2.30434,
     "end_time": "2025-04-07T03:46:43.319872",
     "exception": false,
     "start_time": "2025-04-07T03:46:41.015532",
     "status": "completed"
    },
    "tags": []
   },
   "outputs": [],
   "source": [
    "import pandas as pd\n",
    "import numpy as np\n",
    "import matplotlib.pyplot as plt\n",
    "from sklearn.model_selection import train_test_split\n",
    "from sklearn.preprocessing import StandardScaler\n",
    "from sklearn.linear_model import LogisticRegression\n",
    "from sklearn.metrics import accuracy_score, confusion_matrix, classification_report\n",
    "from sklearn import datasets"
   ]
  },
  {
   "cell_type": "code",
   "execution_count": 2,
   "id": "ef1f6979",
   "metadata": {
    "execution": {
     "iopub.execute_input": "2025-04-07T03:46:43.327069Z",
     "iopub.status.busy": "2025-04-07T03:46:43.326628Z",
     "iopub.status.idle": "2025-04-07T03:46:43.380933Z",
     "shell.execute_reply": "2025-04-07T03:46:43.380063Z"
    },
    "papermill": {
     "duration": 0.059659,
     "end_time": "2025-04-07T03:46:43.382826",
     "exception": false,
     "start_time": "2025-04-07T03:46:43.323167",
     "status": "completed"
    },
    "tags": []
   },
   "outputs": [],
   "source": [
    "df = pd.read_csv('/kaggle/input/california-housing-prices/housing.csv')"
   ]
  },
  {
   "cell_type": "code",
   "execution_count": 3,
   "id": "ad51b203",
   "metadata": {
    "execution": {
     "iopub.execute_input": "2025-04-07T03:46:43.389307Z",
     "iopub.status.busy": "2025-04-07T03:46:43.389012Z",
     "iopub.status.idle": "2025-04-07T03:46:43.398409Z",
     "shell.execute_reply": "2025-04-07T03:46:43.397600Z"
    },
    "papermill": {
     "duration": 0.014226,
     "end_time": "2025-04-07T03:46:43.399988",
     "exception": false,
     "start_time": "2025-04-07T03:46:43.385762",
     "status": "completed"
    },
    "tags": []
   },
   "outputs": [],
   "source": [
    "iris = datasets.load_iris()\n",
    "x = iris.data\n",
    "y = iris.target"
   ]
  },
  {
   "cell_type": "code",
   "execution_count": 4,
   "id": "2b46be8f",
   "metadata": {
    "execution": {
     "iopub.execute_input": "2025-04-07T03:46:43.406441Z",
     "iopub.status.busy": "2025-04-07T03:46:43.406112Z",
     "iopub.status.idle": "2025-04-07T03:46:43.411931Z",
     "shell.execute_reply": "2025-04-07T03:46:43.411240Z"
    },
    "papermill": {
     "duration": 0.01079,
     "end_time": "2025-04-07T03:46:43.413565",
     "exception": false,
     "start_time": "2025-04-07T03:46:43.402775",
     "status": "completed"
    },
    "tags": []
   },
   "outputs": [],
   "source": [
    "x_train, x_test, y_train, y_test = train_test_split(x,y,test_size=0.2, random_state=42)"
   ]
  },
  {
   "cell_type": "code",
   "execution_count": 5,
   "id": "146bf375",
   "metadata": {
    "execution": {
     "iopub.execute_input": "2025-04-07T03:46:43.419830Z",
     "iopub.status.busy": "2025-04-07T03:46:43.419554Z",
     "iopub.status.idle": "2025-04-07T03:46:43.425809Z",
     "shell.execute_reply": "2025-04-07T03:46:43.424991Z"
    },
    "papermill": {
     "duration": 0.010889,
     "end_time": "2025-04-07T03:46:43.427141",
     "exception": false,
     "start_time": "2025-04-07T03:46:43.416252",
     "status": "completed"
    },
    "tags": []
   },
   "outputs": [],
   "source": [
    "scaler = StandardScaler()\n",
    "x_train = scaler.fit_transform(x_train)\n",
    "x_test = scaler.transform(x_test)"
   ]
  },
  {
   "cell_type": "code",
   "execution_count": 6,
   "id": "4409bf81",
   "metadata": {
    "execution": {
     "iopub.execute_input": "2025-04-07T03:46:43.433358Z",
     "iopub.status.busy": "2025-04-07T03:46:43.433097Z",
     "iopub.status.idle": "2025-04-07T03:46:43.468363Z",
     "shell.execute_reply": "2025-04-07T03:46:43.467438Z"
    },
    "papermill": {
     "duration": 0.040057,
     "end_time": "2025-04-07T03:46:43.469894",
     "exception": false,
     "start_time": "2025-04-07T03:46:43.429837",
     "status": "completed"
    },
    "tags": []
   },
   "outputs": [
    {
     "data": {
      "text/html": [
       "<style>#sk-container-id-1 {color: black;background-color: white;}#sk-container-id-1 pre{padding: 0;}#sk-container-id-1 div.sk-toggleable {background-color: white;}#sk-container-id-1 label.sk-toggleable__label {cursor: pointer;display: block;width: 100%;margin-bottom: 0;padding: 0.3em;box-sizing: border-box;text-align: center;}#sk-container-id-1 label.sk-toggleable__label-arrow:before {content: \"▸\";float: left;margin-right: 0.25em;color: #696969;}#sk-container-id-1 label.sk-toggleable__label-arrow:hover:before {color: black;}#sk-container-id-1 div.sk-estimator:hover label.sk-toggleable__label-arrow:before {color: black;}#sk-container-id-1 div.sk-toggleable__content {max-height: 0;max-width: 0;overflow: hidden;text-align: left;background-color: #f0f8ff;}#sk-container-id-1 div.sk-toggleable__content pre {margin: 0.2em;color: black;border-radius: 0.25em;background-color: #f0f8ff;}#sk-container-id-1 input.sk-toggleable__control:checked~div.sk-toggleable__content {max-height: 200px;max-width: 100%;overflow: auto;}#sk-container-id-1 input.sk-toggleable__control:checked~label.sk-toggleable__label-arrow:before {content: \"▾\";}#sk-container-id-1 div.sk-estimator input.sk-toggleable__control:checked~label.sk-toggleable__label {background-color: #d4ebff;}#sk-container-id-1 div.sk-label input.sk-toggleable__control:checked~label.sk-toggleable__label {background-color: #d4ebff;}#sk-container-id-1 input.sk-hidden--visually {border: 0;clip: rect(1px 1px 1px 1px);clip: rect(1px, 1px, 1px, 1px);height: 1px;margin: -1px;overflow: hidden;padding: 0;position: absolute;width: 1px;}#sk-container-id-1 div.sk-estimator {font-family: monospace;background-color: #f0f8ff;border: 1px dotted black;border-radius: 0.25em;box-sizing: border-box;margin-bottom: 0.5em;}#sk-container-id-1 div.sk-estimator:hover {background-color: #d4ebff;}#sk-container-id-1 div.sk-parallel-item::after {content: \"\";width: 100%;border-bottom: 1px solid gray;flex-grow: 1;}#sk-container-id-1 div.sk-label:hover label.sk-toggleable__label {background-color: #d4ebff;}#sk-container-id-1 div.sk-serial::before {content: \"\";position: absolute;border-left: 1px solid gray;box-sizing: border-box;top: 0;bottom: 0;left: 50%;z-index: 0;}#sk-container-id-1 div.sk-serial {display: flex;flex-direction: column;align-items: center;background-color: white;padding-right: 0.2em;padding-left: 0.2em;position: relative;}#sk-container-id-1 div.sk-item {position: relative;z-index: 1;}#sk-container-id-1 div.sk-parallel {display: flex;align-items: stretch;justify-content: center;background-color: white;position: relative;}#sk-container-id-1 div.sk-item::before, #sk-container-id-1 div.sk-parallel-item::before {content: \"\";position: absolute;border-left: 1px solid gray;box-sizing: border-box;top: 0;bottom: 0;left: 50%;z-index: -1;}#sk-container-id-1 div.sk-parallel-item {display: flex;flex-direction: column;z-index: 1;position: relative;background-color: white;}#sk-container-id-1 div.sk-parallel-item:first-child::after {align-self: flex-end;width: 50%;}#sk-container-id-1 div.sk-parallel-item:last-child::after {align-self: flex-start;width: 50%;}#sk-container-id-1 div.sk-parallel-item:only-child::after {width: 0;}#sk-container-id-1 div.sk-dashed-wrapped {border: 1px dashed gray;margin: 0 0.4em 0.5em 0.4em;box-sizing: border-box;padding-bottom: 0.4em;background-color: white;}#sk-container-id-1 div.sk-label label {font-family: monospace;font-weight: bold;display: inline-block;line-height: 1.2em;}#sk-container-id-1 div.sk-label-container {text-align: center;}#sk-container-id-1 div.sk-container {/* jupyter's `normalize.less` sets `[hidden] { display: none; }` but bootstrap.min.css set `[hidden] { display: none !important; }` so we also need the `!important` here to be able to override the default hidden behavior on the sphinx rendered scikit-learn.org. See: https://github.com/scikit-learn/scikit-learn/issues/21755 */display: inline-block !important;position: relative;}#sk-container-id-1 div.sk-text-repr-fallback {display: none;}</style><div id=\"sk-container-id-1\" class=\"sk-top-container\"><div class=\"sk-text-repr-fallback\"><pre>LogisticRegression(max_iter=200, multi_class=&#x27;ovr&#x27;)</pre><b>In a Jupyter environment, please rerun this cell to show the HTML representation or trust the notebook. <br />On GitHub, the HTML representation is unable to render, please try loading this page with nbviewer.org.</b></div><div class=\"sk-container\" hidden><div class=\"sk-item\"><div class=\"sk-estimator sk-toggleable\"><input class=\"sk-toggleable__control sk-hidden--visually\" id=\"sk-estimator-id-1\" type=\"checkbox\" checked><label for=\"sk-estimator-id-1\" class=\"sk-toggleable__label sk-toggleable__label-arrow\">LogisticRegression</label><div class=\"sk-toggleable__content\"><pre>LogisticRegression(max_iter=200, multi_class=&#x27;ovr&#x27;)</pre></div></div></div></div></div>"
      ],
      "text/plain": [
       "LogisticRegression(max_iter=200, multi_class='ovr')"
      ]
     },
     "execution_count": 6,
     "metadata": {},
     "output_type": "execute_result"
    }
   ],
   "source": [
    "model = LogisticRegression(multi_class='ovr', solver='lbfgs', max_iter=200)\n",
    "model.fit(x_train, y_train)"
   ]
  },
  {
   "cell_type": "code",
   "execution_count": 7,
   "id": "4b4dd954",
   "metadata": {
    "execution": {
     "iopub.execute_input": "2025-04-07T03:46:43.476821Z",
     "iopub.status.busy": "2025-04-07T03:46:43.476540Z",
     "iopub.status.idle": "2025-04-07T03:46:43.488573Z",
     "shell.execute_reply": "2025-04-07T03:46:43.487648Z"
    },
    "papermill": {
     "duration": 0.016971,
     "end_time": "2025-04-07T03:46:43.489917",
     "exception": false,
     "start_time": "2025-04-07T03:46:43.472946",
     "status": "completed"
    },
    "tags": []
   },
   "outputs": [],
   "source": [
    "y_pred = model.predict(x_test)"
   ]
  },
  {
   "cell_type": "code",
   "execution_count": 8,
   "id": "ddb732a4",
   "metadata": {
    "execution": {
     "iopub.execute_input": "2025-04-07T03:46:43.496702Z",
     "iopub.status.busy": "2025-04-07T03:46:43.496344Z",
     "iopub.status.idle": "2025-04-07T03:46:43.502808Z",
     "shell.execute_reply": "2025-04-07T03:46:43.501715Z"
    },
    "papermill": {
     "duration": 0.011272,
     "end_time": "2025-04-07T03:46:43.504147",
     "exception": false,
     "start_time": "2025-04-07T03:46:43.492875",
     "status": "completed"
    },
    "tags": []
   },
   "outputs": [
    {
     "name": "stdout",
     "output_type": "stream",
     "text": [
      "Accuracy pf the Logistic Regression model:  0.9666666666666667\n"
     ]
    }
   ],
   "source": [
    "accuracy = accuracy_score(y_test, y_pred)\n",
    "print(\"Accuracy pf the Logistic Regression model: \", accuracy)"
   ]
  },
  {
   "cell_type": "code",
   "execution_count": 9,
   "id": "0d567d52",
   "metadata": {
    "execution": {
     "iopub.execute_input": "2025-04-07T03:46:43.510949Z",
     "iopub.status.busy": "2025-04-07T03:46:43.510671Z",
     "iopub.status.idle": "2025-04-07T03:46:43.517044Z",
     "shell.execute_reply": "2025-04-07T03:46:43.516184Z"
    },
    "papermill": {
     "duration": 0.011315,
     "end_time": "2025-04-07T03:46:43.518451",
     "exception": false,
     "start_time": "2025-04-07T03:46:43.507136",
     "status": "completed"
    },
    "tags": []
   },
   "outputs": [
    {
     "name": "stdout",
     "output_type": "stream",
     "text": [
      "Confusion Matrix:\n",
      " [[10  0  0]\n",
      " [ 0  8  1]\n",
      " [ 0  0 11]]\n"
     ]
    }
   ],
   "source": [
    "conf_matrix = confusion_matrix(y_test, y_pred)\n",
    "print(\"Confusion Matrix:\\n\", conf_matrix)"
   ]
  },
  {
   "cell_type": "code",
   "execution_count": 10,
   "id": "83e8726d",
   "metadata": {
    "execution": {
     "iopub.execute_input": "2025-04-07T03:46:43.525466Z",
     "iopub.status.busy": "2025-04-07T03:46:43.525134Z",
     "iopub.status.idle": "2025-04-07T03:46:43.537911Z",
     "shell.execute_reply": "2025-04-07T03:46:43.536850Z"
    },
    "papermill": {
     "duration": 0.017747,
     "end_time": "2025-04-07T03:46:43.539340",
     "exception": false,
     "start_time": "2025-04-07T03:46:43.521593",
     "status": "completed"
    },
    "tags": []
   },
   "outputs": [
    {
     "name": "stdout",
     "output_type": "stream",
     "text": [
      "Classification Report: \n",
      "               precision    recall  f1-score   support\n",
      "\n",
      "           0       1.00      1.00      1.00        10\n",
      "           1       1.00      0.89      0.94         9\n",
      "           2       0.92      1.00      0.96        11\n",
      "\n",
      "    accuracy                           0.97        30\n",
      "   macro avg       0.97      0.96      0.97        30\n",
      "weighted avg       0.97      0.97      0.97        30\n",
      "\n"
     ]
    }
   ],
   "source": [
    "class_report = classification_report(y_test, y_pred)\n",
    "print(\"Classification Report: \\n\", class_report)"
   ]
  }
 ],
 "metadata": {
  "kaggle": {
   "accelerator": "none",
   "dataSources": [
    {
     "datasetId": 5227,
     "sourceId": 7876,
     "sourceType": "datasetVersion"
    }
   ],
   "dockerImageVersionId": 30918,
   "isGpuEnabled": false,
   "isInternetEnabled": true,
   "language": "python",
   "sourceType": "notebook"
  },
  "kernelspec": {
   "display_name": "Python 3",
   "language": "python",
   "name": "python3"
  },
  "language_info": {
   "codemirror_mode": {
    "name": "ipython",
    "version": 3
   },
   "file_extension": ".py",
   "mimetype": "text/x-python",
   "name": "python",
   "nbconvert_exporter": "python",
   "pygments_lexer": "ipython3",
   "version": "3.10.12"
  },
  "papermill": {
   "default_parameters": {},
   "duration": 5.799353,
   "end_time": "2025-04-07T03:46:44.162003",
   "environment_variables": {},
   "exception": null,
   "input_path": "__notebook__.ipynb",
   "output_path": "__notebook__.ipynb",
   "parameters": {},
   "start_time": "2025-04-07T03:46:38.362650",
   "version": "2.6.0"
  }
 },
 "nbformat": 4,
 "nbformat_minor": 5
}
