{
 "cells": [
  {
   "cell_type": "code",
   "execution_count": 1,
   "id": "2fbe092b",
   "metadata": {
    "execution": {
     "iopub.execute_input": "2025-04-07T03:58:16.962911Z",
     "iopub.status.busy": "2025-04-07T03:58:16.962505Z",
     "iopub.status.idle": "2025-04-07T03:58:19.223459Z",
     "shell.execute_reply": "2025-04-07T03:58:19.222584Z"
    },
    "papermill": {
     "duration": 2.267353,
     "end_time": "2025-04-07T03:58:19.225463",
     "exception": false,
     "start_time": "2025-04-07T03:58:16.958110",
     "status": "completed"
    },
    "tags": []
   },
   "outputs": [],
   "source": [
    "import pandas as pd\n",
    "from sklearn.model_selection import train_test_split\n",
    "from sklearn.preprocessing import LabelEncoder\n",
    "from sklearn.naive_bayes import GaussianNB\n",
    "from sklearn.metrics import accuracy_score, confusion_matrix, classification_report\n",
    "from sklearn import datasets"
   ]
  },
  {
   "cell_type": "code",
   "execution_count": 2,
   "id": "863ca976",
   "metadata": {
    "execution": {
     "iopub.execute_input": "2025-04-07T03:58:19.232963Z",
     "iopub.status.busy": "2025-04-07T03:58:19.232416Z",
     "iopub.status.idle": "2025-04-07T03:58:19.286135Z",
     "shell.execute_reply": "2025-04-07T03:58:19.285269Z"
    },
    "papermill": {
     "duration": 0.059151,
     "end_time": "2025-04-07T03:58:19.287995",
     "exception": false,
     "start_time": "2025-04-07T03:58:19.228844",
     "status": "completed"
    },
    "tags": []
   },
   "outputs": [],
   "source": [
    "df = pd.read_csv('/kaggle/input/california-housing-prices/housing.csv')"
   ]
  },
  {
   "cell_type": "code",
   "execution_count": 3,
   "id": "c7f5c1ff",
   "metadata": {
    "execution": {
     "iopub.execute_input": "2025-04-07T03:58:19.294607Z",
     "iopub.status.busy": "2025-04-07T03:58:19.294257Z",
     "iopub.status.idle": "2025-04-07T03:58:19.307112Z",
     "shell.execute_reply": "2025-04-07T03:58:19.306023Z"
    },
    "papermill": {
     "duration": 0.018177,
     "end_time": "2025-04-07T03:58:19.309099",
     "exception": false,
     "start_time": "2025-04-07T03:58:19.290922",
     "status": "completed"
    },
    "tags": []
   },
   "outputs": [],
   "source": [
    "iris = datasets.load_iris()\n",
    "data = pd.DataFrame(iris.data, columns=iris.feature_names)\n",
    "data['label'] = iris.target"
   ]
  },
  {
   "cell_type": "code",
   "execution_count": 4,
   "id": "65376139",
   "metadata": {
    "execution": {
     "iopub.execute_input": "2025-04-07T03:58:19.315345Z",
     "iopub.status.busy": "2025-04-07T03:58:19.315020Z",
     "iopub.status.idle": "2025-04-07T03:58:19.321670Z",
     "shell.execute_reply": "2025-04-07T03:58:19.320611Z"
    },
    "papermill": {
     "duration": 0.01144,
     "end_time": "2025-04-07T03:58:19.323299",
     "exception": false,
     "start_time": "2025-04-07T03:58:19.311859",
     "status": "completed"
    },
    "tags": []
   },
   "outputs": [],
   "source": [
    "x = data.iloc[:, :-1].values\n",
    "y = data.iloc[:, -1].values"
   ]
  },
  {
   "cell_type": "code",
   "execution_count": 5,
   "id": "57d5259a",
   "metadata": {
    "execution": {
     "iopub.execute_input": "2025-04-07T03:58:19.329800Z",
     "iopub.status.busy": "2025-04-07T03:58:19.329430Z",
     "iopub.status.idle": "2025-04-07T03:58:19.335611Z",
     "shell.execute_reply": "2025-04-07T03:58:19.334760Z"
    },
    "papermill": {
     "duration": 0.010934,
     "end_time": "2025-04-07T03:58:19.337093",
     "exception": false,
     "start_time": "2025-04-07T03:58:19.326159",
     "status": "completed"
    },
    "tags": []
   },
   "outputs": [],
   "source": [
    "x_train, x_test, y_train, y_test = train_test_split(x, y, test_size=0.2, random_state=42)"
   ]
  },
  {
   "cell_type": "code",
   "execution_count": 6,
   "id": "af9c4c00",
   "metadata": {
    "execution": {
     "iopub.execute_input": "2025-04-07T03:58:19.343521Z",
     "iopub.status.busy": "2025-04-07T03:58:19.343208Z",
     "iopub.status.idle": "2025-04-07T03:58:19.359118Z",
     "shell.execute_reply": "2025-04-07T03:58:19.358070Z"
    },
    "papermill": {
     "duration": 0.020827,
     "end_time": "2025-04-07T03:58:19.360776",
     "exception": false,
     "start_time": "2025-04-07T03:58:19.339949",
     "status": "completed"
    },
    "tags": []
   },
   "outputs": [
    {
     "data": {
      "text/html": [
       "<style>#sk-container-id-1 {color: black;background-color: white;}#sk-container-id-1 pre{padding: 0;}#sk-container-id-1 div.sk-toggleable {background-color: white;}#sk-container-id-1 label.sk-toggleable__label {cursor: pointer;display: block;width: 100%;margin-bottom: 0;padding: 0.3em;box-sizing: border-box;text-align: center;}#sk-container-id-1 label.sk-toggleable__label-arrow:before {content: \"▸\";float: left;margin-right: 0.25em;color: #696969;}#sk-container-id-1 label.sk-toggleable__label-arrow:hover:before {color: black;}#sk-container-id-1 div.sk-estimator:hover label.sk-toggleable__label-arrow:before {color: black;}#sk-container-id-1 div.sk-toggleable__content {max-height: 0;max-width: 0;overflow: hidden;text-align: left;background-color: #f0f8ff;}#sk-container-id-1 div.sk-toggleable__content pre {margin: 0.2em;color: black;border-radius: 0.25em;background-color: #f0f8ff;}#sk-container-id-1 input.sk-toggleable__control:checked~div.sk-toggleable__content {max-height: 200px;max-width: 100%;overflow: auto;}#sk-container-id-1 input.sk-toggleable__control:checked~label.sk-toggleable__label-arrow:before {content: \"▾\";}#sk-container-id-1 div.sk-estimator input.sk-toggleable__control:checked~label.sk-toggleable__label {background-color: #d4ebff;}#sk-container-id-1 div.sk-label input.sk-toggleable__control:checked~label.sk-toggleable__label {background-color: #d4ebff;}#sk-container-id-1 input.sk-hidden--visually {border: 0;clip: rect(1px 1px 1px 1px);clip: rect(1px, 1px, 1px, 1px);height: 1px;margin: -1px;overflow: hidden;padding: 0;position: absolute;width: 1px;}#sk-container-id-1 div.sk-estimator {font-family: monospace;background-color: #f0f8ff;border: 1px dotted black;border-radius: 0.25em;box-sizing: border-box;margin-bottom: 0.5em;}#sk-container-id-1 div.sk-estimator:hover {background-color: #d4ebff;}#sk-container-id-1 div.sk-parallel-item::after {content: \"\";width: 100%;border-bottom: 1px solid gray;flex-grow: 1;}#sk-container-id-1 div.sk-label:hover label.sk-toggleable__label {background-color: #d4ebff;}#sk-container-id-1 div.sk-serial::before {content: \"\";position: absolute;border-left: 1px solid gray;box-sizing: border-box;top: 0;bottom: 0;left: 50%;z-index: 0;}#sk-container-id-1 div.sk-serial {display: flex;flex-direction: column;align-items: center;background-color: white;padding-right: 0.2em;padding-left: 0.2em;position: relative;}#sk-container-id-1 div.sk-item {position: relative;z-index: 1;}#sk-container-id-1 div.sk-parallel {display: flex;align-items: stretch;justify-content: center;background-color: white;position: relative;}#sk-container-id-1 div.sk-item::before, #sk-container-id-1 div.sk-parallel-item::before {content: \"\";position: absolute;border-left: 1px solid gray;box-sizing: border-box;top: 0;bottom: 0;left: 50%;z-index: -1;}#sk-container-id-1 div.sk-parallel-item {display: flex;flex-direction: column;z-index: 1;position: relative;background-color: white;}#sk-container-id-1 div.sk-parallel-item:first-child::after {align-self: flex-end;width: 50%;}#sk-container-id-1 div.sk-parallel-item:last-child::after {align-self: flex-start;width: 50%;}#sk-container-id-1 div.sk-parallel-item:only-child::after {width: 0;}#sk-container-id-1 div.sk-dashed-wrapped {border: 1px dashed gray;margin: 0 0.4em 0.5em 0.4em;box-sizing: border-box;padding-bottom: 0.4em;background-color: white;}#sk-container-id-1 div.sk-label label {font-family: monospace;font-weight: bold;display: inline-block;line-height: 1.2em;}#sk-container-id-1 div.sk-label-container {text-align: center;}#sk-container-id-1 div.sk-container {/* jupyter's `normalize.less` sets `[hidden] { display: none; }` but bootstrap.min.css set `[hidden] { display: none !important; }` so we also need the `!important` here to be able to override the default hidden behavior on the sphinx rendered scikit-learn.org. See: https://github.com/scikit-learn/scikit-learn/issues/21755 */display: inline-block !important;position: relative;}#sk-container-id-1 div.sk-text-repr-fallback {display: none;}</style><div id=\"sk-container-id-1\" class=\"sk-top-container\"><div class=\"sk-text-repr-fallback\"><pre>GaussianNB()</pre><b>In a Jupyter environment, please rerun this cell to show the HTML representation or trust the notebook. <br />On GitHub, the HTML representation is unable to render, please try loading this page with nbviewer.org.</b></div><div class=\"sk-container\" hidden><div class=\"sk-item\"><div class=\"sk-estimator sk-toggleable\"><input class=\"sk-toggleable__control sk-hidden--visually\" id=\"sk-estimator-id-1\" type=\"checkbox\" checked><label for=\"sk-estimator-id-1\" class=\"sk-toggleable__label sk-toggleable__label-arrow\">GaussianNB</label><div class=\"sk-toggleable__content\"><pre>GaussianNB()</pre></div></div></div></div></div>"
      ],
      "text/plain": [
       "GaussianNB()"
      ]
     },
     "execution_count": 6,
     "metadata": {},
     "output_type": "execute_result"
    }
   ],
   "source": [
    "model = GaussianNB()\n",
    "model.fit(x_train, y_train)"
   ]
  },
  {
   "cell_type": "code",
   "execution_count": 7,
   "id": "43ae7ad2",
   "metadata": {
    "execution": {
     "iopub.execute_input": "2025-04-07T03:58:19.367769Z",
     "iopub.status.busy": "2025-04-07T03:58:19.367376Z",
     "iopub.status.idle": "2025-04-07T03:58:19.375019Z",
     "shell.execute_reply": "2025-04-07T03:58:19.374104Z"
    },
    "papermill": {
     "duration": 0.012767,
     "end_time": "2025-04-07T03:58:19.376585",
     "exception": false,
     "start_time": "2025-04-07T03:58:19.363818",
     "status": "completed"
    },
    "tags": []
   },
   "outputs": [],
   "source": [
    "y_pred = model.predict(x_test)"
   ]
  },
  {
   "cell_type": "code",
   "execution_count": 8,
   "id": "617a87a8",
   "metadata": {
    "execution": {
     "iopub.execute_input": "2025-04-07T03:58:19.383697Z",
     "iopub.status.busy": "2025-04-07T03:58:19.383301Z",
     "iopub.status.idle": "2025-04-07T03:58:19.389464Z",
     "shell.execute_reply": "2025-04-07T03:58:19.388448Z"
    },
    "papermill": {
     "duration": 0.011518,
     "end_time": "2025-04-07T03:58:19.391229",
     "exception": false,
     "start_time": "2025-04-07T03:58:19.379711",
     "status": "completed"
    },
    "tags": []
   },
   "outputs": [
    {
     "name": "stdout",
     "output_type": "stream",
     "text": [
      " Accuracy of Naive Bayes classifier:  1.0\n"
     ]
    }
   ],
   "source": [
    "accuracy = accuracy_score(y_test, y_pred)\n",
    "print(\" Accuracy of Naive Bayes classifier: \", accuracy)"
   ]
  },
  {
   "cell_type": "code",
   "execution_count": 9,
   "id": "3195d117",
   "metadata": {
    "execution": {
     "iopub.execute_input": "2025-04-07T03:58:19.398363Z",
     "iopub.status.busy": "2025-04-07T03:58:19.398048Z",
     "iopub.status.idle": "2025-04-07T03:58:19.413071Z",
     "shell.execute_reply": "2025-04-07T03:58:19.411918Z"
    },
    "papermill": {
     "duration": 0.020676,
     "end_time": "2025-04-07T03:58:19.414979",
     "exception": false,
     "start_time": "2025-04-07T03:58:19.394303",
     "status": "completed"
    },
    "tags": []
   },
   "outputs": [
    {
     "name": "stdout",
     "output_type": "stream",
     "text": [
      "Confusion Matrix:\n",
      " [[10  0  0]\n",
      " [ 0  9  0]\n",
      " [ 0  0 11]]\n",
      "Classification report:               precision    recall  f1-score   support\n",
      "\n",
      "      setosa       1.00      1.00      1.00        10\n",
      "  versicolor       1.00      1.00      1.00         9\n",
      "   virginica       1.00      1.00      1.00        11\n",
      "\n",
      "    accuracy                           1.00        30\n",
      "   macro avg       1.00      1.00      1.00        30\n",
      "weighted avg       1.00      1.00      1.00        30\n",
      "\n"
     ]
    }
   ],
   "source": [
    "print(\"Confusion Matrix:\\n\", confusion_matrix(y_test, y_pred))\n",
    "print(\"Classification report:\", classification_report(y_test, y_pred, target_names=iris.target_names))"
   ]
  }
 ],
 "metadata": {
  "kaggle": {
   "accelerator": "none",
   "dataSources": [
    {
     "datasetId": 5227,
     "sourceId": 7876,
     "sourceType": "datasetVersion"
    }
   ],
   "dockerImageVersionId": 30918,
   "isGpuEnabled": false,
   "isInternetEnabled": true,
   "language": "python",
   "sourceType": "notebook"
  },
  "kernelspec": {
   "display_name": "Python 3",
   "language": "python",
   "name": "python3"
  },
  "language_info": {
   "codemirror_mode": {
    "name": "ipython",
    "version": 3
   },
   "file_extension": ".py",
   "mimetype": "text/x-python",
   "name": "python",
   "nbconvert_exporter": "python",
   "pygments_lexer": "ipython3",
   "version": "3.10.12"
  },
  "papermill": {
   "default_parameters": {},
   "duration": 6.372566,
   "end_time": "2025-04-07T03:58:20.138257",
   "environment_variables": {},
   "exception": null,
   "input_path": "__notebook__.ipynb",
   "output_path": "__notebook__.ipynb",
   "parameters": {},
   "start_time": "2025-04-07T03:58:13.765691",
   "version": "2.6.0"
  }
 },
 "nbformat": 4,
 "nbformat_minor": 5
}
