{
 "cells": [
  {
   "cell_type": "markdown",
   "id": "6a8c7a71",
   "metadata": {
    "papermill": {
     "duration": 0.003491,
     "end_time": "2025-04-10T21:23:42.018551",
     "exception": false,
     "start_time": "2025-04-10T21:23:42.015060",
     "status": "completed"
    },
    "tags": []
   },
   "source": [
    "# Practical 8"
   ]
  },
  {
   "cell_type": "code",
   "execution_count": 1,
   "id": "5d687f0a",
   "metadata": {
    "execution": {
     "iopub.execute_input": "2025-04-10T21:23:42.026765Z",
     "iopub.status.busy": "2025-04-10T21:23:42.025569Z",
     "iopub.status.idle": "2025-04-10T21:23:45.934869Z",
     "shell.execute_reply": "2025-04-10T21:23:45.933724Z"
    },
    "papermill": {
     "duration": 3.914863,
     "end_time": "2025-04-10T21:23:45.936604",
     "exception": false,
     "start_time": "2025-04-10T21:23:42.021741",
     "status": "completed"
    },
    "tags": []
   },
   "outputs": [],
   "source": [
    "import pandas as pd\n",
    "import numpy as np\n",
    "import matplotlib.pyplot as plt \n",
    "from sklearn.model_selection import train_test_split\n",
    "from sklearn.preprocessing import StandardScaler\n",
    "from sklearn.neighbors import KNeighborsClassifier\n",
    "from sklearn.metrics import accuracy_score, classification_report, confusion_matrix"
   ]
  },
  {
   "cell_type": "code",
   "execution_count": 2,
   "id": "e4ab27ae",
   "metadata": {
    "execution": {
     "iopub.execute_input": "2025-04-10T21:23:45.944313Z",
     "iopub.status.busy": "2025-04-10T21:23:45.943859Z",
     "iopub.status.idle": "2025-04-10T21:23:46.014750Z",
     "shell.execute_reply": "2025-04-10T21:23:46.013954Z"
    },
    "papermill": {
     "duration": 0.076497,
     "end_time": "2025-04-10T21:23:46.016365",
     "exception": false,
     "start_time": "2025-04-10T21:23:45.939868",
     "status": "completed"
    },
    "tags": []
   },
   "outputs": [],
   "source": [
    "df = pd.read_csv('/kaggle/input/california-housing-prices/housing.csv')"
   ]
  },
  {
   "cell_type": "code",
   "execution_count": 3,
   "id": "5ee5c9ba",
   "metadata": {
    "execution": {
     "iopub.execute_input": "2025-04-10T21:23:46.023600Z",
     "iopub.status.busy": "2025-04-10T21:23:46.023270Z",
     "iopub.status.idle": "2025-04-10T21:23:46.134495Z",
     "shell.execute_reply": "2025-04-10T21:23:46.133468Z"
    },
    "papermill": {
     "duration": 0.116537,
     "end_time": "2025-04-10T21:23:46.136100",
     "exception": false,
     "start_time": "2025-04-10T21:23:46.019563",
     "status": "completed"
    },
    "tags": []
   },
   "outputs": [],
   "source": [
    "from sklearn.datasets import load_iris"
   ]
  },
  {
   "cell_type": "code",
   "execution_count": 4,
   "id": "a63b8331",
   "metadata": {
    "execution": {
     "iopub.execute_input": "2025-04-10T21:23:46.143605Z",
     "iopub.status.busy": "2025-04-10T21:23:46.143260Z",
     "iopub.status.idle": "2025-04-10T21:23:46.154790Z",
     "shell.execute_reply": "2025-04-10T21:23:46.153719Z"
    },
    "papermill": {
     "duration": 0.017241,
     "end_time": "2025-04-10T21:23:46.156479",
     "exception": false,
     "start_time": "2025-04-10T21:23:46.139238",
     "status": "completed"
    },
    "tags": []
   },
   "outputs": [],
   "source": [
    "iris = load_iris()\n",
    "x = iris.data\n",
    "y = iris.target"
   ]
  },
  {
   "cell_type": "code",
   "execution_count": 5,
   "id": "a86a9381",
   "metadata": {
    "execution": {
     "iopub.execute_input": "2025-04-10T21:23:46.165520Z",
     "iopub.status.busy": "2025-04-10T21:23:46.165184Z",
     "iopub.status.idle": "2025-04-10T21:23:46.188897Z",
     "shell.execute_reply": "2025-04-10T21:23:46.187915Z"
    },
    "papermill": {
     "duration": 0.030958,
     "end_time": "2025-04-10T21:23:46.190606",
     "exception": false,
     "start_time": "2025-04-10T21:23:46.159648",
     "status": "completed"
    },
    "tags": []
   },
   "outputs": [
    {
     "name": "stdout",
     "output_type": "stream",
     "text": [
      "<bound method NDFrame.head of      sepal length (cm)  sepal width (cm)  petal length (cm)  petal width (cm)  \\\n",
      "0                  5.1               3.5                1.4               0.2   \n",
      "1                  4.9               3.0                1.4               0.2   \n",
      "2                  4.7               3.2                1.3               0.2   \n",
      "3                  4.6               3.1                1.5               0.2   \n",
      "4                  5.0               3.6                1.4               0.2   \n",
      "..                 ...               ...                ...               ...   \n",
      "145                6.7               3.0                5.2               2.3   \n",
      "146                6.3               2.5                5.0               1.9   \n",
      "147                6.5               3.0                5.2               2.0   \n",
      "148                6.2               3.4                5.4               2.3   \n",
      "149                5.9               3.0                5.1               1.8   \n",
      "\n",
      "     species  \n",
      "0          0  \n",
      "1          0  \n",
      "2          0  \n",
      "3          0  \n",
      "4          0  \n",
      "..       ...  \n",
      "145        2  \n",
      "146        2  \n",
      "147        2  \n",
      "148        2  \n",
      "149        2  \n",
      "\n",
      "[150 rows x 5 columns]>\n"
     ]
    }
   ],
   "source": [
    "df = pd.DataFrame(x, columns=iris.feature_names)\n",
    "df['species'] = y\n",
    "print(df.head)"
   ]
  },
  {
   "cell_type": "code",
   "execution_count": 6,
   "id": "f738f55d",
   "metadata": {
    "execution": {
     "iopub.execute_input": "2025-04-10T21:23:46.198168Z",
     "iopub.status.busy": "2025-04-10T21:23:46.197865Z",
     "iopub.status.idle": "2025-04-10T21:23:46.204385Z",
     "shell.execute_reply": "2025-04-10T21:23:46.203504Z"
    },
    "papermill": {
     "duration": 0.012017,
     "end_time": "2025-04-10T21:23:46.205879",
     "exception": false,
     "start_time": "2025-04-10T21:23:46.193862",
     "status": "completed"
    },
    "tags": []
   },
   "outputs": [],
   "source": [
    "x_train, x_test, y_train, y_test = train_test_split(x,y, test_size=0.2, random_state=42)"
   ]
  },
  {
   "cell_type": "code",
   "execution_count": 7,
   "id": "1c6b92c6",
   "metadata": {
    "execution": {
     "iopub.execute_input": "2025-04-10T21:23:46.213784Z",
     "iopub.status.busy": "2025-04-10T21:23:46.213410Z",
     "iopub.status.idle": "2025-04-10T21:23:46.219424Z",
     "shell.execute_reply": "2025-04-10T21:23:46.218481Z"
    },
    "papermill": {
     "duration": 0.011717,
     "end_time": "2025-04-10T21:23:46.220832",
     "exception": false,
     "start_time": "2025-04-10T21:23:46.209115",
     "status": "completed"
    },
    "tags": []
   },
   "outputs": [],
   "source": [
    "scaler = StandardScaler()\n",
    "x_train = scaler.fit_transform(x_train)\n",
    "x_test = scaler.transform(x_test)"
   ]
  },
  {
   "cell_type": "code",
   "execution_count": 8,
   "id": "dcdf6f3c",
   "metadata": {
    "execution": {
     "iopub.execute_input": "2025-04-10T21:23:46.228477Z",
     "iopub.status.busy": "2025-04-10T21:23:46.228165Z",
     "iopub.status.idle": "2025-04-10T21:23:46.232444Z",
     "shell.execute_reply": "2025-04-10T21:23:46.231712Z"
    },
    "papermill": {
     "duration": 0.009859,
     "end_time": "2025-04-10T21:23:46.234016",
     "exception": false,
     "start_time": "2025-04-10T21:23:46.224157",
     "status": "completed"
    },
    "tags": []
   },
   "outputs": [],
   "source": [
    "k = 5\n",
    "knn = KNeighborsClassifier(n_neighbors = k)"
   ]
  },
  {
   "cell_type": "code",
   "execution_count": 9,
   "id": "1d4e3a6e",
   "metadata": {
    "execution": {
     "iopub.execute_input": "2025-04-10T21:23:46.241434Z",
     "iopub.status.busy": "2025-04-10T21:23:46.241154Z",
     "iopub.status.idle": "2025-04-10T21:23:46.256342Z",
     "shell.execute_reply": "2025-04-10T21:23:46.255334Z"
    },
    "papermill": {
     "duration": 0.020784,
     "end_time": "2025-04-10T21:23:46.257946",
     "exception": false,
     "start_time": "2025-04-10T21:23:46.237162",
     "status": "completed"
    },
    "tags": []
   },
   "outputs": [
    {
     "data": {
      "text/html": [
       "<style>#sk-container-id-1 {color: black;background-color: white;}#sk-container-id-1 pre{padding: 0;}#sk-container-id-1 div.sk-toggleable {background-color: white;}#sk-container-id-1 label.sk-toggleable__label {cursor: pointer;display: block;width: 100%;margin-bottom: 0;padding: 0.3em;box-sizing: border-box;text-align: center;}#sk-container-id-1 label.sk-toggleable__label-arrow:before {content: \"▸\";float: left;margin-right: 0.25em;color: #696969;}#sk-container-id-1 label.sk-toggleable__label-arrow:hover:before {color: black;}#sk-container-id-1 div.sk-estimator:hover label.sk-toggleable__label-arrow:before {color: black;}#sk-container-id-1 div.sk-toggleable__content {max-height: 0;max-width: 0;overflow: hidden;text-align: left;background-color: #f0f8ff;}#sk-container-id-1 div.sk-toggleable__content pre {margin: 0.2em;color: black;border-radius: 0.25em;background-color: #f0f8ff;}#sk-container-id-1 input.sk-toggleable__control:checked~div.sk-toggleable__content {max-height: 200px;max-width: 100%;overflow: auto;}#sk-container-id-1 input.sk-toggleable__control:checked~label.sk-toggleable__label-arrow:before {content: \"▾\";}#sk-container-id-1 div.sk-estimator input.sk-toggleable__control:checked~label.sk-toggleable__label {background-color: #d4ebff;}#sk-container-id-1 div.sk-label input.sk-toggleable__control:checked~label.sk-toggleable__label {background-color: #d4ebff;}#sk-container-id-1 input.sk-hidden--visually {border: 0;clip: rect(1px 1px 1px 1px);clip: rect(1px, 1px, 1px, 1px);height: 1px;margin: -1px;overflow: hidden;padding: 0;position: absolute;width: 1px;}#sk-container-id-1 div.sk-estimator {font-family: monospace;background-color: #f0f8ff;border: 1px dotted black;border-radius: 0.25em;box-sizing: border-box;margin-bottom: 0.5em;}#sk-container-id-1 div.sk-estimator:hover {background-color: #d4ebff;}#sk-container-id-1 div.sk-parallel-item::after {content: \"\";width: 100%;border-bottom: 1px solid gray;flex-grow: 1;}#sk-container-id-1 div.sk-label:hover label.sk-toggleable__label {background-color: #d4ebff;}#sk-container-id-1 div.sk-serial::before {content: \"\";position: absolute;border-left: 1px solid gray;box-sizing: border-box;top: 0;bottom: 0;left: 50%;z-index: 0;}#sk-container-id-1 div.sk-serial {display: flex;flex-direction: column;align-items: center;background-color: white;padding-right: 0.2em;padding-left: 0.2em;position: relative;}#sk-container-id-1 div.sk-item {position: relative;z-index: 1;}#sk-container-id-1 div.sk-parallel {display: flex;align-items: stretch;justify-content: center;background-color: white;position: relative;}#sk-container-id-1 div.sk-item::before, #sk-container-id-1 div.sk-parallel-item::before {content: \"\";position: absolute;border-left: 1px solid gray;box-sizing: border-box;top: 0;bottom: 0;left: 50%;z-index: -1;}#sk-container-id-1 div.sk-parallel-item {display: flex;flex-direction: column;z-index: 1;position: relative;background-color: white;}#sk-container-id-1 div.sk-parallel-item:first-child::after {align-self: flex-end;width: 50%;}#sk-container-id-1 div.sk-parallel-item:last-child::after {align-self: flex-start;width: 50%;}#sk-container-id-1 div.sk-parallel-item:only-child::after {width: 0;}#sk-container-id-1 div.sk-dashed-wrapped {border: 1px dashed gray;margin: 0 0.4em 0.5em 0.4em;box-sizing: border-box;padding-bottom: 0.4em;background-color: white;}#sk-container-id-1 div.sk-label label {font-family: monospace;font-weight: bold;display: inline-block;line-height: 1.2em;}#sk-container-id-1 div.sk-label-container {text-align: center;}#sk-container-id-1 div.sk-container {/* jupyter's `normalize.less` sets `[hidden] { display: none; }` but bootstrap.min.css set `[hidden] { display: none !important; }` so we also need the `!important` here to be able to override the default hidden behavior on the sphinx rendered scikit-learn.org. See: https://github.com/scikit-learn/scikit-learn/issues/21755 */display: inline-block !important;position: relative;}#sk-container-id-1 div.sk-text-repr-fallback {display: none;}</style><div id=\"sk-container-id-1\" class=\"sk-top-container\"><div class=\"sk-text-repr-fallback\"><pre>KNeighborsClassifier()</pre><b>In a Jupyter environment, please rerun this cell to show the HTML representation or trust the notebook. <br />On GitHub, the HTML representation is unable to render, please try loading this page with nbviewer.org.</b></div><div class=\"sk-container\" hidden><div class=\"sk-item\"><div class=\"sk-estimator sk-toggleable\"><input class=\"sk-toggleable__control sk-hidden--visually\" id=\"sk-estimator-id-1\" type=\"checkbox\" checked><label for=\"sk-estimator-id-1\" class=\"sk-toggleable__label sk-toggleable__label-arrow\">KNeighborsClassifier</label><div class=\"sk-toggleable__content\"><pre>KNeighborsClassifier()</pre></div></div></div></div></div>"
      ],
      "text/plain": [
       "KNeighborsClassifier()"
      ]
     },
     "execution_count": 9,
     "metadata": {},
     "output_type": "execute_result"
    }
   ],
   "source": [
    "knn.fit(x_train, y_train)"
   ]
  },
  {
   "cell_type": "code",
   "execution_count": 10,
   "id": "096365e2",
   "metadata": {
    "execution": {
     "iopub.execute_input": "2025-04-10T21:23:46.266176Z",
     "iopub.status.busy": "2025-04-10T21:23:46.265864Z",
     "iopub.status.idle": "2025-04-10T21:23:46.275403Z",
     "shell.execute_reply": "2025-04-10T21:23:46.274526Z"
    },
    "papermill": {
     "duration": 0.015541,
     "end_time": "2025-04-10T21:23:46.277119",
     "exception": false,
     "start_time": "2025-04-10T21:23:46.261578",
     "status": "completed"
    },
    "tags": []
   },
   "outputs": [],
   "source": [
    "y_pred = knn.predict(x_test)"
   ]
  },
  {
   "cell_type": "code",
   "execution_count": 11,
   "id": "20674307",
   "metadata": {
    "execution": {
     "iopub.execute_input": "2025-04-10T21:23:46.286711Z",
     "iopub.status.busy": "2025-04-10T21:23:46.286362Z",
     "iopub.status.idle": "2025-04-10T21:23:46.292343Z",
     "shell.execute_reply": "2025-04-10T21:23:46.291396Z"
    },
    "papermill": {
     "duration": 0.01162,
     "end_time": "2025-04-10T21:23:46.293704",
     "exception": false,
     "start_time": "2025-04-10T21:23:46.282084",
     "status": "completed"
    },
    "tags": []
   },
   "outputs": [
    {
     "name": "stdout",
     "output_type": "stream",
     "text": [
      "Accuracy: 100.00%\n"
     ]
    }
   ],
   "source": [
    "accuracy = accuracy_score(y_test, y_pred)\n",
    "print(f\"Accuracy: {accuracy * 100:.2f}%\")"
   ]
  },
  {
   "cell_type": "code",
   "execution_count": 12,
   "id": "f8a6e035",
   "metadata": {
    "execution": {
     "iopub.execute_input": "2025-04-10T21:23:46.301568Z",
     "iopub.status.busy": "2025-04-10T21:23:46.301275Z",
     "iopub.status.idle": "2025-04-10T21:23:46.314041Z",
     "shell.execute_reply": "2025-04-10T21:23:46.313001Z"
    },
    "papermill": {
     "duration": 0.018533,
     "end_time": "2025-04-10T21:23:46.315653",
     "exception": false,
     "start_time": "2025-04-10T21:23:46.297120",
     "status": "completed"
    },
    "tags": []
   },
   "outputs": [
    {
     "name": "stdout",
     "output_type": "stream",
     "text": [
      "\n",
      "Classification Report:\n",
      "              precision    recall  f1-score   support\n",
      "\n",
      "           0       1.00      1.00      1.00        10\n",
      "           1       1.00      1.00      1.00         9\n",
      "           2       1.00      1.00      1.00        11\n",
      "\n",
      "    accuracy                           1.00        30\n",
      "   macro avg       1.00      1.00      1.00        30\n",
      "weighted avg       1.00      1.00      1.00        30\n",
      "\n"
     ]
    }
   ],
   "source": [
    "print(\"\\nClassification Report:\")\n",
    "print(classification_report(y_test, y_pred))"
   ]
  },
  {
   "cell_type": "code",
   "execution_count": 13,
   "id": "7a267bac",
   "metadata": {
    "execution": {
     "iopub.execute_input": "2025-04-10T21:23:46.324138Z",
     "iopub.status.busy": "2025-04-10T21:23:46.323802Z",
     "iopub.status.idle": "2025-04-10T21:23:46.332121Z",
     "shell.execute_reply": "2025-04-10T21:23:46.331110Z"
    },
    "papermill": {
     "duration": 0.014431,
     "end_time": "2025-04-10T21:23:46.333725",
     "exception": false,
     "start_time": "2025-04-10T21:23:46.319294",
     "status": "completed"
    },
    "tags": []
   },
   "outputs": [
    {
     "name": "stdout",
     "output_type": "stream",
     "text": [
      "\\confusion Matrix:\n",
      "[[10  0  0]\n",
      " [ 0  9  0]\n",
      " [ 0  0 11]]\n"
     ]
    }
   ],
   "source": [
    "from sklearn.metrics import classification_report\n",
    "print(\"\\confusion Matrix:\")\n",
    "print(confusion_matrix(y_test, y_pred))"
   ]
  },
  {
   "cell_type": "code",
   "execution_count": 14,
   "id": "29a4994a",
   "metadata": {
    "execution": {
     "iopub.execute_input": "2025-04-10T21:23:46.342073Z",
     "iopub.status.busy": "2025-04-10T21:23:46.341746Z",
     "iopub.status.idle": "2025-04-10T21:23:46.347782Z",
     "shell.execute_reply": "2025-04-10T21:23:46.346688Z"
    },
    "papermill": {
     "duration": 0.011971,
     "end_time": "2025-04-10T21:23:46.349268",
     "exception": false,
     "start_time": "2025-04-10T21:23:46.337297",
     "status": "completed"
    },
    "tags": []
   },
   "outputs": [
    {
     "name": "stdout",
     "output_type": "stream",
     "text": [
      "\n",
      "correct and incorrect Predictions: \n",
      "Actual: versicolor, Predicted: versicolor - correct\n",
      "Actual: setosa, Predicted: setosa - correct\n",
      "Actual: virginica, Predicted: virginica - correct\n",
      "Actual: versicolor, Predicted: versicolor - correct\n",
      "Actual: versicolor, Predicted: versicolor - correct\n",
      "Actual: setosa, Predicted: setosa - correct\n",
      "Actual: versicolor, Predicted: versicolor - correct\n",
      "Actual: virginica, Predicted: virginica - correct\n",
      "Actual: versicolor, Predicted: versicolor - correct\n",
      "Actual: versicolor, Predicted: versicolor - correct\n",
      "Actual: virginica, Predicted: virginica - correct\n",
      "Actual: setosa, Predicted: setosa - correct\n",
      "Actual: setosa, Predicted: setosa - correct\n",
      "Actual: setosa, Predicted: setosa - correct\n",
      "Actual: setosa, Predicted: setosa - correct\n",
      "Actual: versicolor, Predicted: versicolor - correct\n",
      "Actual: virginica, Predicted: virginica - correct\n",
      "Actual: versicolor, Predicted: versicolor - correct\n",
      "Actual: versicolor, Predicted: versicolor - correct\n",
      "Actual: virginica, Predicted: virginica - correct\n",
      "Actual: setosa, Predicted: setosa - correct\n",
      "Actual: virginica, Predicted: virginica - correct\n",
      "Actual: setosa, Predicted: setosa - correct\n",
      "Actual: virginica, Predicted: virginica - correct\n",
      "Actual: virginica, Predicted: virginica - correct\n",
      "Actual: virginica, Predicted: virginica - correct\n",
      "Actual: virginica, Predicted: virginica - correct\n",
      "Actual: virginica, Predicted: virginica - correct\n",
      "Actual: setosa, Predicted: setosa - correct\n",
      "Actual: setosa, Predicted: setosa - correct\n"
     ]
    }
   ],
   "source": [
    "print(\"\\ncorrect and incorrect Predictions: \")\n",
    "for i in range(len(y_test)):\n",
    "    correct = y_test[i]== y_pred[i]\n",
    "    print(f\"Actual: {iris.target_names[y_test[i]]}, Predicted: {iris.target_names[y_pred[i]]} - {'correct' if correct else 'wrong'}\")"
   ]
  }
 ],
 "metadata": {
  "kaggle": {
   "accelerator": "none",
   "dataSources": [
    {
     "datasetId": 5227,
     "sourceId": 7876,
     "sourceType": "datasetVersion"
    }
   ],
   "dockerImageVersionId": 31012,
   "isGpuEnabled": false,
   "isInternetEnabled": true,
   "language": "python",
   "sourceType": "notebook"
  },
  "kernelspec": {
   "display_name": "Python 3",
   "language": "python",
   "name": "python3"
  },
  "language_info": {
   "codemirror_mode": {
    "name": "ipython",
    "version": 3
   },
   "file_extension": ".py",
   "mimetype": "text/x-python",
   "name": "python",
   "nbconvert_exporter": "python",
   "pygments_lexer": "ipython3",
   "version": "3.11.11"
  },
  "papermill": {
   "default_parameters": {},
   "duration": 10.026241,
   "end_time": "2025-04-10T21:23:47.073922",
   "environment_variables": {},
   "exception": null,
   "input_path": "__notebook__.ipynb",
   "output_path": "__notebook__.ipynb",
   "parameters": {},
   "start_time": "2025-04-10T21:23:37.047681",
   "version": "2.6.0"
  }
 },
 "nbformat": 4,
 "nbformat_minor": 5
}
